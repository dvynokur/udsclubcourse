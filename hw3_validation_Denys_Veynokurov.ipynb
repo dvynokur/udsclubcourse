{
 "cells": [
  {
   "cell_type": "markdown",
   "metadata": {},
   "source": [
    "# Homework 3 \n",
    "\n",
    "You will have 2 datasets to work on. \n",
    "#### You have to answer questions in this [form](https://goo.gl/forms/5gfxvKZxpoydoeOB2) and provide your code\n",
    "\n",
    "### 1. Wikipedia Web Traffic Time Series\n",
    "\n",
    "Data from [Kaggle competition](https://www.kaggle.com/c/web-traffic-time-series-forecasting)* )\n",
    "\n",
    "*wikipedia_train3* - train data *wikipedia_test3* - test data created by us from original train data . For more information about dataset, please visit Homework1 assignment\n",
    "\n",
    "\n",
    "### 2. French dataset\n",
    "\n",
    "Target variable is prime_tot_ttc – house of insurance price.<p>\n",
    "The variables in the files are:<p>\n",
    "code_postal: postal code of the insured property<p>\n",
    "nb_pieces: number of rooms<p>\n",
    "veranda: presence of a veranda<p>\n",
    "biens_nomades: ceiling of coverage of goods (laptop, tablets, musical instruments ,…)<p>\n",
    "sit_fam: family situation of the insured<p>\n",
    "profession: profession of the insured<p>\n",
    "nature_lri: nature of the insured property<p>\n",
    "societe: company covering the risk<p>\n",
    "cdomact: area of activity of the insured<p>\n",
    "niv_urbanisation: level of urbanization in which is the insured property<p>\n",
    "age_societaire: age of the member<p>\n",
    "objets_precieux: presence of precious objects in the insured property<p>\n",
    "pres_contrat_auto: holding a contract of auto insurance<p>\n",
    "formule: guarantee formula<p>\n",
    "sit_juridique: legal situation<p>\n",
    "surf_habitat: area of insured property<p>\n",
    "patrimoine_mob: amount of heritage insured furniture<p>\n",
    "var1 - ... - var11: non-explicit variables<p>\n"
   ]
  },
  {
   "cell_type": "markdown",
   "metadata": {},
   "source": [
    "## Wikipedia page views (SMAPE metric)"
   ]
  },
  {
   "cell_type": "code",
   "execution_count": 51,
   "metadata": {},
   "outputs": [],
   "source": [
    "import pandas as pd\n",
    "import numpy as np\n",
    "import warnings\n",
    "import matplotlib.pyplot as plt\n",
    "%matplotlib inline\n",
    "warnings.filterwarnings('ignore')\n",
    "from dateutil.relativedelta import relativedelta\n",
    "import math"
   ]
  },
  {
   "cell_type": "code",
   "execution_count": 2,
   "metadata": {},
   "outputs": [],
   "source": [
    "### This is data from wikipedia3 archive in data folder\n",
    "\n",
    "train = pd.read_csv(\"../data/wikipedia_train3.csv\")\n",
    "test = pd.read_csv(\"../data/wikipedia_test3.csv\")"
   ]
  },
  {
   "cell_type": "markdown",
   "metadata": {},
   "source": [
    "**1.** Take a look carefuly at train and test dataset. Note for you what is the difference in them and how they are dependent. **For _only_ train** create a holdout validation using any type of split you think is useful here. What is the split type you are using? Answer in google forms\n",
    "\n",
    "**2.** Write a code to compare the score of your validation and test set. For scoring, use metric SMAPE (code is in lecture). For prediction use 15 previous days median. In the google form write your validation score."
   ]
  },
  {
   "cell_type": "code",
   "execution_count": 3,
   "metadata": {},
   "outputs": [
    {
     "data": {
      "text/html": [
       "<div>\n",
       "<style scoped>\n",
       "    .dataframe tbody tr th:only-of-type {\n",
       "        vertical-align: middle;\n",
       "    }\n",
       "\n",
       "    .dataframe tbody tr th {\n",
       "        vertical-align: top;\n",
       "    }\n",
       "\n",
       "    .dataframe thead th {\n",
       "        text-align: right;\n",
       "    }\n",
       "</style>\n",
       "<table border=\"1\" class=\"dataframe\">\n",
       "  <thead>\n",
       "    <tr style=\"text-align: right;\">\n",
       "      <th></th>\n",
       "      <th>Page</th>\n",
       "      <th>date</th>\n",
       "      <th>Visits</th>\n",
       "    </tr>\n",
       "  </thead>\n",
       "  <tbody>\n",
       "    <tr>\n",
       "      <th>2504060</th>\n",
       "      <td>山田涼介_ja.wikipedia.org_all-access_all-agents</td>\n",
       "      <td>2016-07-30</td>\n",
       "      <td>2994.0</td>\n",
       "    </tr>\n",
       "    <tr>\n",
       "      <th>803553</th>\n",
       "      <td>Baron_Zemo_en.wikipedia.org_desktop_all-agents</td>\n",
       "      <td>2016-03-09</td>\n",
       "      <td>1462.0</td>\n",
       "    </tr>\n",
       "    <tr>\n",
       "      <th>779772</th>\n",
       "      <td>Bundespräsident_(Deutschland)_de.wikipedia.org...</td>\n",
       "      <td>2016-03-06</td>\n",
       "      <td>3015.0</td>\n",
       "    </tr>\n",
       "    <tr>\n",
       "      <th>669038</th>\n",
       "      <td>Pretty_Little_Liars_(season_6)_en.wikipedia.or...</td>\n",
       "      <td>2016-02-26</td>\n",
       "      <td>6289.0</td>\n",
       "    </tr>\n",
       "    <tr>\n",
       "      <th>631226</th>\n",
       "      <td>Agent_Carter_(TV_series)_en.wikipedia.org_all-...</td>\n",
       "      <td>2016-02-23</td>\n",
       "      <td>12376.0</td>\n",
       "    </tr>\n",
       "    <tr>\n",
       "      <th>2246043</th>\n",
       "      <td>Everest_(2015_film)_en.wikipedia.org_desktop_a...</td>\n",
       "      <td>2016-07-09</td>\n",
       "      <td>2388.0</td>\n",
       "    </tr>\n",
       "    <tr>\n",
       "      <th>1995808</th>\n",
       "      <td>吉田羊_ja.wikipedia.org_all-access_all-agents</td>\n",
       "      <td>2016-06-17</td>\n",
       "      <td>2765.0</td>\n",
       "    </tr>\n",
       "    <tr>\n",
       "      <th>2715621</th>\n",
       "      <td>Chris_Evans_es.wikipedia.org_mobile-web_all-ag...</td>\n",
       "      <td>2016-08-17</td>\n",
       "      <td>1188.0</td>\n",
       "    </tr>\n",
       "    <tr>\n",
       "      <th>1273745</th>\n",
       "      <td>Mesopotamia_es.wikipedia.org_all-access_all-ag...</td>\n",
       "      <td>2016-04-17</td>\n",
       "      <td>3707.0</td>\n",
       "    </tr>\n",
       "    <tr>\n",
       "      <th>241117</th>\n",
       "      <td>Rooting_(Android_OS)_en.wikipedia.org_all-acce...</td>\n",
       "      <td>2016-01-21</td>\n",
       "      <td>9962.0</td>\n",
       "    </tr>\n",
       "  </tbody>\n",
       "</table>\n",
       "</div>"
      ],
      "text/plain": [
       "                                                      Page        date  \\\n",
       "2504060        山田涼介_ja.wikipedia.org_all-access_all-agents  2016-07-30   \n",
       "803553      Baron_Zemo_en.wikipedia.org_desktop_all-agents  2016-03-09   \n",
       "779772   Bundespräsident_(Deutschland)_de.wikipedia.org...  2016-03-06   \n",
       "669038   Pretty_Little_Liars_(season_6)_en.wikipedia.or...  2016-02-26   \n",
       "631226   Agent_Carter_(TV_series)_en.wikipedia.org_all-...  2016-02-23   \n",
       "2246043  Everest_(2015_film)_en.wikipedia.org_desktop_a...  2016-07-09   \n",
       "1995808         吉田羊_ja.wikipedia.org_all-access_all-agents  2016-06-17   \n",
       "2715621  Chris_Evans_es.wikipedia.org_mobile-web_all-ag...  2016-08-17   \n",
       "1273745  Mesopotamia_es.wikipedia.org_all-access_all-ag...  2016-04-17   \n",
       "241117   Rooting_(Android_OS)_en.wikipedia.org_all-acce...  2016-01-21   \n",
       "\n",
       "          Visits  \n",
       "2504060   2994.0  \n",
       "803553    1462.0  \n",
       "779772    3015.0  \n",
       "669038    6289.0  \n",
       "631226   12376.0  \n",
       "2246043   2388.0  \n",
       "1995808   2765.0  \n",
       "2715621   1188.0  \n",
       "1273745   3707.0  \n",
       "241117    9962.0  "
      ]
     },
     "execution_count": 3,
     "metadata": {},
     "output_type": "execute_result"
    }
   ],
   "source": [
    "train.sample(10)"
   ]
  },
  {
   "cell_type": "code",
   "execution_count": 4,
   "metadata": {},
   "outputs": [
    {
     "data": {
      "text/html": [
       "<div>\n",
       "<style scoped>\n",
       "    .dataframe tbody tr th:only-of-type {\n",
       "        vertical-align: middle;\n",
       "    }\n",
       "\n",
       "    .dataframe tbody tr th {\n",
       "        vertical-align: top;\n",
       "    }\n",
       "\n",
       "    .dataframe thead th {\n",
       "        text-align: right;\n",
       "    }\n",
       "</style>\n",
       "<table border=\"1\" class=\"dataframe\">\n",
       "  <thead>\n",
       "    <tr style=\"text-align: right;\">\n",
       "      <th></th>\n",
       "      <th>Page</th>\n",
       "      <th>date</th>\n",
       "      <th>Visits</th>\n",
       "    </tr>\n",
       "  </thead>\n",
       "  <tbody>\n",
       "    <tr>\n",
       "      <th>641019</th>\n",
       "      <td>Gerald_Ford_en.wikipedia.org_all-access_all-ag...</td>\n",
       "      <td>2016-11-03</td>\n",
       "      <td>10120.0</td>\n",
       "    </tr>\n",
       "    <tr>\n",
       "      <th>43043</th>\n",
       "      <td>The_BFG_en.wikipedia.org_mobile-web_all-agents</td>\n",
       "      <td>2016-09-13</td>\n",
       "      <td>3328.0</td>\n",
       "    </tr>\n",
       "    <tr>\n",
       "      <th>413426</th>\n",
       "      <td>Schweden_de.wikipedia.org_all-access_all-agents</td>\n",
       "      <td>2016-10-14</td>\n",
       "      <td>2203.0</td>\n",
       "    </tr>\n",
       "    <tr>\n",
       "      <th>418901</th>\n",
       "      <td>Supergirl_(TV_series)_en.wikipedia.org_all-acc...</td>\n",
       "      <td>2016-10-15</td>\n",
       "      <td>20397.0</td>\n",
       "    </tr>\n",
       "    <tr>\n",
       "      <th>163000</th>\n",
       "      <td>Sistema_nervioso_es.wikipedia.org_all-access_a...</td>\n",
       "      <td>2016-09-23</td>\n",
       "      <td>8066.0</td>\n",
       "    </tr>\n",
       "    <tr>\n",
       "      <th>349417</th>\n",
       "      <td>Creed_(film)_en.wikipedia.org_mobile-web_all-a...</td>\n",
       "      <td>2016-10-09</td>\n",
       "      <td>5770.0</td>\n",
       "    </tr>\n",
       "    <tr>\n",
       "      <th>719664</th>\n",
       "      <td>Vereinigtes_Königreich_de.wikipedia.org_mobile...</td>\n",
       "      <td>2016-11-09</td>\n",
       "      <td>1741.0</td>\n",
       "    </tr>\n",
       "    <tr>\n",
       "      <th>379354</th>\n",
       "      <td>Jennifer_Lopez_en.wikipedia.org_desktop_all-ag...</td>\n",
       "      <td>2016-10-12</td>\n",
       "      <td>4714.0</td>\n",
       "    </tr>\n",
       "    <tr>\n",
       "      <th>635144</th>\n",
       "      <td>Commons:Reusing_content_outside_Wikimedia_comm...</td>\n",
       "      <td>2016-11-02</td>\n",
       "      <td>3705.0</td>\n",
       "    </tr>\n",
       "    <tr>\n",
       "      <th>69311</th>\n",
       "      <td>Уокер,_Пол_ru.wikipedia.org_all-access_all-agents</td>\n",
       "      <td>2016-09-15</td>\n",
       "      <td>2028.0</td>\n",
       "    </tr>\n",
       "  </tbody>\n",
       "</table>\n",
       "</div>"
      ],
      "text/plain": [
       "                                                     Page        date   Visits\n",
       "641019  Gerald_Ford_en.wikipedia.org_all-access_all-ag...  2016-11-03  10120.0\n",
       "43043      The_BFG_en.wikipedia.org_mobile-web_all-agents  2016-09-13   3328.0\n",
       "413426    Schweden_de.wikipedia.org_all-access_all-agents  2016-10-14   2203.0\n",
       "418901  Supergirl_(TV_series)_en.wikipedia.org_all-acc...  2016-10-15  20397.0\n",
       "163000  Sistema_nervioso_es.wikipedia.org_all-access_a...  2016-09-23   8066.0\n",
       "349417  Creed_(film)_en.wikipedia.org_mobile-web_all-a...  2016-10-09   5770.0\n",
       "719664  Vereinigtes_Königreich_de.wikipedia.org_mobile...  2016-11-09   1741.0\n",
       "379354  Jennifer_Lopez_en.wikipedia.org_desktop_all-ag...  2016-10-12   4714.0\n",
       "635144  Commons:Reusing_content_outside_Wikimedia_comm...  2016-11-02   3705.0\n",
       "69311   Уокер,_Пол_ru.wikipedia.org_all-access_all-agents  2016-09-15   2028.0"
      ]
     },
     "execution_count": 4,
     "metadata": {},
     "output_type": "execute_result"
    }
   ],
   "source": [
    "test.sample(10)"
   ]
  },
  {
   "cell_type": "code",
   "execution_count": 5,
   "metadata": {},
   "outputs": [
    {
     "data": {
      "text/plain": [
       "('2016-09-10', '2016-11-10')"
      ]
     },
     "execution_count": 5,
     "metadata": {},
     "output_type": "execute_result"
    }
   ],
   "source": [
    "test['date'].min(), test['date'].max()"
   ]
  },
  {
   "cell_type": "code",
   "execution_count": 6,
   "metadata": {},
   "outputs": [
    {
     "data": {
      "text/plain": [
       "('2016-01-01', '2016-08-31')"
      ]
     },
     "execution_count": 6,
     "metadata": {},
     "output_type": "execute_result"
    }
   ],
   "source": [
    "train['date'].min(), train['date'].max()"
   ]
  },
  {
   "cell_type": "code",
   "execution_count": 7,
   "metadata": {},
   "outputs": [
    {
     "data": {
      "text/plain": [
       "((2882860, 3), (732530, 3))"
      ]
     },
     "execution_count": 7,
     "metadata": {},
     "output_type": "execute_result"
    }
   ],
   "source": [
    "train.shape, test.shape"
   ]
  },
  {
   "cell_type": "code",
   "execution_count": 8,
   "metadata": {
    "scrolled": true
   },
   "outputs": [
    {
     "data": {
      "text/plain": [
       "3.935483870967742"
      ]
     },
     "execution_count": 8,
     "metadata": {},
     "output_type": "execute_result"
    }
   ],
   "source": [
    "train.shape[0] / test.shape[0]"
   ]
  },
  {
   "cell_type": "code",
   "execution_count": 9,
   "metadata": {},
   "outputs": [],
   "source": [
    "train['date'] = pd.to_datetime(train['date'])\n",
    "test['date'] = pd.to_datetime(test['date'])"
   ]
  },
  {
   "cell_type": "code",
   "execution_count": 10,
   "metadata": {},
   "outputs": [],
   "source": [
    "train['Month']     = train[\"date\"].dt.month\n",
    "train['Day']       = train[\"date\"].dt.day\n",
    "train['DayOfWeek'] = train[\"date\"].dt.dayofweek"
   ]
  },
  {
   "cell_type": "code",
   "execution_count": 11,
   "metadata": {},
   "outputs": [],
   "source": [
    "train_train, train_test = train[train['date'] < '2016-07-01'], train[train['date'] >= '2016-07-01']"
   ]
  },
  {
   "cell_type": "code",
   "execution_count": 12,
   "metadata": {},
   "outputs": [
    {
     "data": {
      "text/plain": [
       "Timestamp('2016-06-30 00:00:00')"
      ]
     },
     "execution_count": 12,
     "metadata": {},
     "output_type": "execute_result"
    }
   ],
   "source": [
    "train_train['date'].max()"
   ]
  },
  {
   "cell_type": "code",
   "execution_count": 13,
   "metadata": {},
   "outputs": [],
   "source": [
    "temp = train_train[train_train['date'] > '2016-06-15']"
   ]
  },
  {
   "cell_type": "code",
   "execution_count": 14,
   "metadata": {},
   "outputs": [],
   "source": [
    "pages = temp['Page'].unique()\n",
    "y_pred = []"
   ]
  },
  {
   "cell_type": "code",
   "execution_count": 19,
   "metadata": {},
   "outputs": [],
   "source": [
    "for page in pages:\n",
    "    y_pred.append(temp[temp['Page'] == page]['Visits'].median())"
   ]
  },
  {
   "cell_type": "code",
   "execution_count": 20,
   "metadata": {},
   "outputs": [],
   "source": [
    "i = 0\n",
    "for page in pages:\n",
    "    train_test.loc[train_test['Page'] == page, 'Visits_pred'] = y_pred[i]\n",
    "    i += 1"
   ]
  },
  {
   "cell_type": "code",
   "execution_count": 27,
   "metadata": {},
   "outputs": [],
   "source": [
    "def pandas_smape_error(df):\n",
    "    df.fillna(0, inplace=True)\n",
    "    df[\"SMAPE\"] = 200 * np.abs(df[\"Visits\"] - df[\"Visits_pred\"]) / (df[\"Visits\"] + df[\"Visits_pred\"])\n",
    "    df[\"SMAPE\"].fillna(0, inplace=True)\n",
    "    return np.mean(df[\"SMAPE\"])"
   ]
  },
  {
   "cell_type": "code",
   "execution_count": 28,
   "metadata": {},
   "outputs": [],
   "source": [
    "def smape_fast_error(y_true, y_pred):\n",
    "    out = 0\n",
    "    for i in range(y_true.shape[0]):\n",
    "        a = y_true.iloc[i]\n",
    "        b = y_pred.iloc[i]\n",
    "        if b < 1:\n",
    "            b = 0\n",
    "        c = a+b\n",
    "        if c == 0:\n",
    "            continue\n",
    "        out += math.fabs(a - b) / c\n",
    "    out *= (200.0 / y_true.shape[0])\n",
    "    return out"
   ]
  },
  {
   "cell_type": "code",
   "execution_count": 29,
   "metadata": {},
   "outputs": [
    {
     "data": {
      "text/plain": [
       "41.016810453819595"
      ]
     },
     "execution_count": 29,
     "metadata": {},
     "output_type": "execute_result"
    }
   ],
   "source": [
    "smape_fast_error(train_test['Visits'], train_test['Visits_pred'])"
   ]
  },
  {
   "cell_type": "code",
   "execution_count": 30,
   "metadata": {},
   "outputs": [
    {
     "data": {
      "text/plain": [
       "41.01681045381974"
      ]
     },
     "execution_count": 30,
     "metadata": {},
     "output_type": "execute_result"
    }
   ],
   "source": [
    "pandas_smape_error(train_test)"
   ]
  },
  {
   "cell_type": "code",
   "execution_count": 31,
   "metadata": {},
   "outputs": [
    {
     "data": {
      "text/plain": [
       "array(['Special:Search_zh.wikipedia.org_all-access_spider',\n",
       "       'Wikipedia:首页_zh.wikipedia.org_all-access_spider',\n",
       "       'Project:上传_zh.wikipedia.org_all-access_spider', ...,\n",
       "       'Especial:Libro_es.wikipedia.org_all-access_spider',\n",
       "       'Special:Search_es.wikipedia.org_all-access_spider',\n",
       "       'Wikipedia:Portada_es.wikipedia.org_all-access_spider'],\n",
       "      dtype=object)"
      ]
     },
     "execution_count": 31,
     "metadata": {},
     "output_type": "execute_result"
    }
   ],
   "source": [
    "pages"
   ]
  },
  {
   "cell_type": "code",
   "execution_count": 32,
   "metadata": {},
   "outputs": [],
   "source": [
    "i = 0\n",
    "page_num = {pages[i]:i for i in range(len(pages))}"
   ]
  },
  {
   "cell_type": "code",
   "execution_count": null,
   "metadata": {},
   "outputs": [],
   "source": []
  },
  {
   "cell_type": "code",
   "execution_count": null,
   "metadata": {},
   "outputs": [],
   "source": []
  },
  {
   "cell_type": "code",
   "execution_count": 33,
   "metadata": {},
   "outputs": [],
   "source": [
    "def create_validation(df, start_date):\n",
    "    return df.loc[(df['date'] >= pd.to_datetime(start_date) - relativedelta(days=0)) & \\\n",
    "                  (df['date'] <  pd.to_datetime(start_date) + relativedelta(months=2))].index, \\\n",
    "           df.loc[(df['date'] >= pd.to_datetime(start_date) + relativedelta(months=2)) & \\\n",
    "                  (df['date'] <  pd.to_datetime(start_date) + relativedelta(months=4))].index"
   ]
  },
  {
   "cell_type": "code",
   "execution_count": 34,
   "metadata": {},
   "outputs": [],
   "source": [
    "train_dates = ['2016-01-01', '2016-03-01', '2016-05-01']"
   ]
  },
  {
   "cell_type": "code",
   "execution_count": 35,
   "metadata": {},
   "outputs": [
    {
     "data": {
      "text/html": [
       "<div>\n",
       "<style scoped>\n",
       "    .dataframe tbody tr th:only-of-type {\n",
       "        vertical-align: middle;\n",
       "    }\n",
       "\n",
       "    .dataframe tbody tr th {\n",
       "        vertical-align: top;\n",
       "    }\n",
       "\n",
       "    .dataframe thead th {\n",
       "        text-align: right;\n",
       "    }\n",
       "</style>\n",
       "<table border=\"1\" class=\"dataframe\">\n",
       "  <thead>\n",
       "    <tr style=\"text-align: right;\">\n",
       "      <th></th>\n",
       "      <th>Page</th>\n",
       "      <th>date</th>\n",
       "      <th>Visits</th>\n",
       "    </tr>\n",
       "  </thead>\n",
       "  <tbody>\n",
       "    <tr>\n",
       "      <th>0</th>\n",
       "      <td>Special:Search_zh.wikipedia.org_all-access_spider</td>\n",
       "      <td>2016-09-10</td>\n",
       "      <td>640.0</td>\n",
       "    </tr>\n",
       "    <tr>\n",
       "      <th>1</th>\n",
       "      <td>Wikipedia:首页_zh.wikipedia.org_all-access_spider</td>\n",
       "      <td>2016-09-10</td>\n",
       "      <td>5609.0</td>\n",
       "    </tr>\n",
       "    <tr>\n",
       "      <th>2</th>\n",
       "      <td>Project:上传_zh.wikipedia.org_all-access_spider</td>\n",
       "      <td>2016-09-10</td>\n",
       "      <td>3121.0</td>\n",
       "    </tr>\n",
       "    <tr>\n",
       "      <th>3</th>\n",
       "      <td>Special:用户登录_zh.wikipedia.org_all-access_spider</td>\n",
       "      <td>2016-09-10</td>\n",
       "      <td>362.0</td>\n",
       "    </tr>\n",
       "    <tr>\n",
       "      <th>4</th>\n",
       "      <td>Championnat_d'Europe_de_football_2016_fr.wikip...</td>\n",
       "      <td>2016-09-10</td>\n",
       "      <td>533.0</td>\n",
       "    </tr>\n",
       "  </tbody>\n",
       "</table>\n",
       "</div>"
      ],
      "text/plain": [
       "                                                Page       date  Visits\n",
       "0  Special:Search_zh.wikipedia.org_all-access_spider 2016-09-10   640.0\n",
       "1    Wikipedia:首页_zh.wikipedia.org_all-access_spider 2016-09-10  5609.0\n",
       "2      Project:上传_zh.wikipedia.org_all-access_spider 2016-09-10  3121.0\n",
       "3    Special:用户登录_zh.wikipedia.org_all-access_spider 2016-09-10   362.0\n",
       "4  Championnat_d'Europe_de_football_2016_fr.wikip... 2016-09-10   533.0"
      ]
     },
     "execution_count": 35,
     "metadata": {},
     "output_type": "execute_result"
    }
   ],
   "source": [
    "test.head()"
   ]
  },
  {
   "cell_type": "code",
   "execution_count": 36,
   "metadata": {},
   "outputs": [],
   "source": [
    "train['page_num'] = train['Page'].map(page_num)"
   ]
  },
  {
   "cell_type": "code",
   "execution_count": 37,
   "metadata": {},
   "outputs": [],
   "source": [
    "test['page_num'] = test['Page'].map(page_num)"
   ]
  },
  {
   "cell_type": "code",
   "execution_count": 38,
   "metadata": {},
   "outputs": [],
   "source": [
    "X = train.drop(['Page', 'Visits','date'], axis = 1)\n",
    "y = train['Visits']\n",
    "\n",
    "\n",
    "X_test = test.drop(['Visits','date'], axis = 1)\n",
    "y_test = test['Visits']"
   ]
  },
  {
   "cell_type": "code",
   "execution_count": 39,
   "metadata": {},
   "outputs": [],
   "source": [
    "myCViterator = []\n",
    "for i in train_dates:\n",
    "    trainIndices, valIndices = create_validation(train, i)\n",
    "    myCViterator.append( (trainIndices, valIndices) )"
   ]
  },
  {
   "cell_type": "code",
   "execution_count": 136,
   "metadata": {},
   "outputs": [
    {
     "name": "stdout",
     "output_type": "stream",
     "text": [
      "0 708900\n",
      "708900 1429615\n",
      "1429615 2150330\n"
     ]
    }
   ],
   "source": [
    "for x,y in myCViterator:\n",
    "#     print(y)\n",
    "    print (min(x), min(y))"
   ]
  },
  {
   "cell_type": "code",
   "execution_count": 104,
   "metadata": {},
   "outputs": [],
   "source": [
    "from sklearn.ensemble import RandomForestClassifier\n",
    "from sklearn.model_selection import GridSearchCV, StratifiedKFold"
   ]
  },
  {
   "cell_type": "code",
   "execution_count": 138,
   "metadata": {},
   "outputs": [],
   "source": [
    "tree = RandomForestClassifier(random_state=17)"
   ]
  },
  {
   "cell_type": "code",
   "execution_count": 161,
   "metadata": {},
   "outputs": [],
   "source": [
    "max_depth_val = range(13,16)\n",
    "# max_features_values = range(4, 8)\n",
    "params = {'max_depth': max_depth_val}"
   ]
  },
  {
   "cell_type": "code",
   "execution_count": 158,
   "metadata": {},
   "outputs": [],
   "source": [
    "gcv = GridSearchCV(tree, params, n_jobs=-1, cv=myCViterator, scoring=smape_fast_error, verbose=1)\n",
    "gcv.fit(X,y)\n"
   ]
  },
  {
   "cell_type": "code",
   "execution_count": null,
   "metadata": {},
   "outputs": [],
   "source": [
    "# from sklearn.svm import SVR\n",
    "# regressor = SVR()\n",
    "from sklearn.pipeline import Pipeline\n",
    "regressor = RandomForestClassifier(random_state=17)\n",
    "\n",
    "pipeline_r = Pipeline([('regressor', re gressor)])\n",
    "param_grid = [\n",
    "    {'regressor__max_depth': max_depth_val}\n",
    "#   {'regressor__C': [0.01, 0.1, 1, 10, 100, 1000], 'regressor__kernel': ['linear']},\n",
    "#   {'regressor__C': [0.01, 0.1, 1, 10, 100, 1000], 'regressor__gamma': [0.001, 0.0001], 'regressor__kernel': ['rbf']},\n",
    " ]\n",
    "grid_search = GridSearchCV(pipeline_r, param_grid=param_grid, cv=myCViterator, scoring=smape_fast_error)\n",
    "\n",
    "%time grid_search.fit(X,y)"
   ]
  },
  {
   "cell_type": "code",
   "execution_count": null,
   "metadata": {},
   "outputs": [],
   "source": []
  },
  {
   "cell_type": "code",
   "execution_count": null,
   "metadata": {},
   "outputs": [],
   "source": []
  },
  {
   "cell_type": "code",
   "execution_count": null,
   "metadata": {},
   "outputs": [],
   "source": []
  },
  {
   "cell_type": "code",
   "execution_count": null,
   "metadata": {},
   "outputs": [],
   "source": []
  },
  {
   "cell_type": "code",
   "execution_count": null,
   "metadata": {},
   "outputs": [],
   "source": []
  },
  {
   "cell_type": "code",
   "execution_count": null,
   "metadata": {},
   "outputs": [],
   "source": []
  },
  {
   "cell_type": "code",
   "execution_count": null,
   "metadata": {},
   "outputs": [],
   "source": []
  },
  {
   "cell_type": "code",
   "execution_count": null,
   "metadata": {},
   "outputs": [],
   "source": []
  },
  {
   "cell_type": "code",
   "execution_count": null,
   "metadata": {},
   "outputs": [],
   "source": []
  },
  {
   "cell_type": "code",
   "execution_count": null,
   "metadata": {},
   "outputs": [],
   "source": []
  },
  {
   "cell_type": "code",
   "execution_count": null,
   "metadata": {},
   "outputs": [],
   "source": []
  },
  {
   "cell_type": "code",
   "execution_count": null,
   "metadata": {},
   "outputs": [],
   "source": []
  },
  {
   "cell_type": "markdown",
   "metadata": {
    "collapsed": true
   },
   "source": [
    "## French house insurance prediction (MAPE metric)"
   ]
  },
  {
   "cell_type": "markdown",
   "metadata": {},
   "source": [
    "**1.** Take a look carefuly at train and test dataset. Note for you what is the difference in them and how they are dependent. You may use any tool you like, any EDA you want. Decribe your validation and reason for your choice in google form.\n",
    "\n",
    "**2.** \n",
    "+ Implement your validation. \n",
    "+ Generate additional features. \n",
    "+ Build a model you like/you can. \n",
    "+ Wait for training your model. If it takes too much time, listen to https://www.youtube.com/watch?v=XWkGL4eZR3E\n",
    "+ Submit your scores on validation and test to google form. Use MAPE metric for scoring. \n",
    "+ Ланфрен ланфра лантатита"
   ]
  },
  {
   "cell_type": "code",
   "execution_count": 40,
   "metadata": {},
   "outputs": [],
   "source": [
    "train = pd.read_csv('../data/train_french.csv')\n",
    "test = pd.read_csv('../data/test_french.csv')"
   ]
  },
  {
   "cell_type": "code",
   "execution_count": 68,
   "metadata": {},
   "outputs": [
    {
     "data": {
      "text/plain": [
       "0.37984"
      ]
     },
     "execution_count": 68,
     "metadata": {},
     "output_type": "execute_result"
    }
   ],
   "source": [
    "test.shape[0] / train.shape[0] "
   ]
  },
  {
   "cell_type": "code",
   "execution_count": 42,
   "metadata": {},
   "outputs": [
    {
     "data": {
      "text/html": [
       "<div>\n",
       "<style scoped>\n",
       "    .dataframe tbody tr th:only-of-type {\n",
       "        vertical-align: middle;\n",
       "    }\n",
       "\n",
       "    .dataframe tbody tr th {\n",
       "        vertical-align: top;\n",
       "    }\n",
       "\n",
       "    .dataframe thead th {\n",
       "        text-align: right;\n",
       "    }\n",
       "</style>\n",
       "<table border=\"1\" class=\"dataframe\">\n",
       "  <thead>\n",
       "    <tr style=\"text-align: right;\">\n",
       "      <th></th>\n",
       "      <th>code_postal</th>\n",
       "      <th>nb_pieces</th>\n",
       "      <th>veranda</th>\n",
       "      <th>biens_nomades</th>\n",
       "      <th>sit_fam</th>\n",
       "      <th>profession</th>\n",
       "      <th>nature_lri</th>\n",
       "      <th>societe</th>\n",
       "      <th>domaine_activite</th>\n",
       "      <th>niv_urbanisation</th>\n",
       "      <th>...</th>\n",
       "      <th>var3</th>\n",
       "      <th>var4</th>\n",
       "      <th>var5</th>\n",
       "      <th>var6</th>\n",
       "      <th>var7</th>\n",
       "      <th>var8</th>\n",
       "      <th>var9</th>\n",
       "      <th>var10</th>\n",
       "      <th>var11</th>\n",
       "      <th>prime_tot_ttc</th>\n",
       "    </tr>\n",
       "  </thead>\n",
       "  <tbody>\n",
       "    <tr>\n",
       "      <th>0</th>\n",
       "      <td>6029</td>\n",
       "      <td>5</td>\n",
       "      <td>OUI</td>\n",
       "      <td>500</td>\n",
       "      <td>Famille</td>\n",
       "      <td>agent; employe</td>\n",
       "      <td>Maison</td>\n",
       "      <td>1</td>\n",
       "      <td>7</td>\n",
       "      <td>C</td>\n",
       "      <td>...</td>\n",
       "      <td>0</td>\n",
       "      <td>164</td>\n",
       "      <td>41</td>\n",
       "      <td>0</td>\n",
       "      <td>0</td>\n",
       "      <td>1</td>\n",
       "      <td>NON</td>\n",
       "      <td>30</td>\n",
       "      <td>1</td>\n",
       "      <td>107.94</td>\n",
       "    </tr>\n",
       "    <tr>\n",
       "      <th>1</th>\n",
       "      <td>62128</td>\n",
       "      <td>2</td>\n",
       "      <td>NON</td>\n",
       "      <td>0</td>\n",
       "      <td>Famille</td>\n",
       "      <td>enseignant; formateur; chercheur</td>\n",
       "      <td>Appartement</td>\n",
       "      <td>1</td>\n",
       "      <td>1</td>\n",
       "      <td>D</td>\n",
       "      <td>...</td>\n",
       "      <td>1</td>\n",
       "      <td>85</td>\n",
       "      <td>100</td>\n",
       "      <td>0</td>\n",
       "      <td>0</td>\n",
       "      <td>1</td>\n",
       "      <td>NON</td>\n",
       "      <td>30</td>\n",
       "      <td>2</td>\n",
       "      <td>80.41</td>\n",
       "    </tr>\n",
       "    <tr>\n",
       "      <th>2</th>\n",
       "      <td>81065</td>\n",
       "      <td>4</td>\n",
       "      <td>NON</td>\n",
       "      <td>1000</td>\n",
       "      <td>Indivividu</td>\n",
       "      <td>homme ou femme au foyer</td>\n",
       "      <td>Sans information</td>\n",
       "      <td>2</td>\n",
       "      <td>99</td>\n",
       "      <td>~</td>\n",
       "      <td>...</td>\n",
       "      <td>0</td>\n",
       "      <td>94</td>\n",
       "      <td>100</td>\n",
       "      <td>0</td>\n",
       "      <td>0</td>\n",
       "      <td>1</td>\n",
       "      <td>NON</td>\n",
       "      <td>30</td>\n",
       "      <td>2</td>\n",
       "      <td>142.12</td>\n",
       "    </tr>\n",
       "    <tr>\n",
       "      <th>3</th>\n",
       "      <td>5023</td>\n",
       "      <td>3</td>\n",
       "      <td>NON</td>\n",
       "      <td>500</td>\n",
       "      <td>Indivividu</td>\n",
       "      <td>agent; employe</td>\n",
       "      <td>Maison</td>\n",
       "      <td>2</td>\n",
       "      <td>38</td>\n",
       "      <td>C</td>\n",
       "      <td>...</td>\n",
       "      <td>0</td>\n",
       "      <td>101</td>\n",
       "      <td>100</td>\n",
       "      <td>0</td>\n",
       "      <td>0</td>\n",
       "      <td>5</td>\n",
       "      <td>NON</td>\n",
       "      <td>30</td>\n",
       "      <td>2</td>\n",
       "      <td>76.55</td>\n",
       "    </tr>\n",
       "    <tr>\n",
       "      <th>4</th>\n",
       "      <td>62178</td>\n",
       "      <td>2</td>\n",
       "      <td>NON</td>\n",
       "      <td>500</td>\n",
       "      <td>Famille</td>\n",
       "      <td>enseignant; formateur; chercheur</td>\n",
       "      <td>Appartement</td>\n",
       "      <td>1</td>\n",
       "      <td>1</td>\n",
       "      <td>~</td>\n",
       "      <td>...</td>\n",
       "      <td>1</td>\n",
       "      <td>125</td>\n",
       "      <td>100</td>\n",
       "      <td>1</td>\n",
       "      <td>0</td>\n",
       "      <td>1</td>\n",
       "      <td>NON</td>\n",
       "      <td>0</td>\n",
       "      <td>2</td>\n",
       "      <td>150.45</td>\n",
       "    </tr>\n",
       "  </tbody>\n",
       "</table>\n",
       "<p>5 rows × 29 columns</p>\n",
       "</div>"
      ],
      "text/plain": [
       "   code_postal  nb_pieces veranda  biens_nomades     sit_fam  \\\n",
       "0         6029          5     OUI            500     Famille   \n",
       "1        62128          2     NON              0     Famille   \n",
       "2        81065          4     NON           1000  Indivividu   \n",
       "3         5023          3     NON            500  Indivividu   \n",
       "4        62178          2     NON            500     Famille   \n",
       "\n",
       "                         profession        nature_lri  societe  \\\n",
       "0                    agent; employe            Maison        1   \n",
       "1  enseignant; formateur; chercheur       Appartement        1   \n",
       "2           homme ou femme au foyer  Sans information        2   \n",
       "3                    agent; employe            Maison        2   \n",
       "4  enseignant; formateur; chercheur       Appartement        1   \n",
       "\n",
       "   domaine_activite niv_urbanisation      ...        var3  var4  var5  var6  \\\n",
       "0                 7                C      ...           0   164    41     0   \n",
       "1                 1                D      ...           1    85   100     0   \n",
       "2                99                ~      ...           0    94   100     0   \n",
       "3                38                C      ...           0   101   100     0   \n",
       "4                 1                ~      ...           1   125   100     1   \n",
       "\n",
       "   var7  var8  var9  var10  var11  prime_tot_ttc  \n",
       "0     0     1   NON     30      1         107.94  \n",
       "1     0     1   NON     30      2          80.41  \n",
       "2     0     1   NON     30      2         142.12  \n",
       "3     0     5   NON     30      2          76.55  \n",
       "4     0     1   NON      0      2         150.45  \n",
       "\n",
       "[5 rows x 29 columns]"
      ]
     },
     "execution_count": 42,
     "metadata": {},
     "output_type": "execute_result"
    }
   ],
   "source": [
    "test.head()\n"
   ]
  },
  {
   "cell_type": "code",
   "execution_count": null,
   "metadata": {},
   "outputs": [],
   "source": []
  },
  {
   "cell_type": "code",
   "execution_count": null,
   "metadata": {},
   "outputs": [],
   "source": []
  },
  {
   "cell_type": "code",
   "execution_count": null,
   "metadata": {},
   "outputs": [],
   "source": []
  },
  {
   "cell_type": "code",
   "execution_count": 72,
   "metadata": {},
   "outputs": [],
   "source": [
    "from sklearn.model_selection import train_test_split"
   ]
  },
  {
   "cell_type": "code",
   "execution_count": 78,
   "metadata": {},
   "outputs": [
    {
     "data": {
      "text/html": [
       "<div>\n",
       "<style scoped>\n",
       "    .dataframe tbody tr th:only-of-type {\n",
       "        vertical-align: middle;\n",
       "    }\n",
       "\n",
       "    .dataframe tbody tr th {\n",
       "        vertical-align: top;\n",
       "    }\n",
       "\n",
       "    .dataframe thead th {\n",
       "        text-align: right;\n",
       "    }\n",
       "</style>\n",
       "<table border=\"1\" class=\"dataframe\">\n",
       "  <thead>\n",
       "    <tr style=\"text-align: right;\">\n",
       "      <th></th>\n",
       "      <th>code_postal</th>\n",
       "      <th>nb_pieces</th>\n",
       "      <th>veranda</th>\n",
       "      <th>biens_nomades</th>\n",
       "      <th>sit_fam</th>\n",
       "      <th>profession</th>\n",
       "      <th>nature_lri</th>\n",
       "      <th>societe</th>\n",
       "      <th>domaine_activite</th>\n",
       "      <th>niv_urbanisation</th>\n",
       "      <th>...</th>\n",
       "      <th>var3</th>\n",
       "      <th>var4</th>\n",
       "      <th>var5</th>\n",
       "      <th>var6</th>\n",
       "      <th>var7</th>\n",
       "      <th>var8</th>\n",
       "      <th>var9</th>\n",
       "      <th>var10</th>\n",
       "      <th>var11</th>\n",
       "      <th>prime_tot_ttc</th>\n",
       "    </tr>\n",
       "  </thead>\n",
       "  <tbody>\n",
       "    <tr>\n",
       "      <th>0</th>\n",
       "      <td>62510</td>\n",
       "      <td>1</td>\n",
       "      <td>NON</td>\n",
       "      <td>500</td>\n",
       "      <td>Indivividu</td>\n",
       "      <td>agent; employe</td>\n",
       "      <td>Sans information</td>\n",
       "      <td>2</td>\n",
       "      <td>34</td>\n",
       "      <td>A</td>\n",
       "      <td>...</td>\n",
       "      <td>0</td>\n",
       "      <td>194</td>\n",
       "      <td>49</td>\n",
       "      <td>0</td>\n",
       "      <td>0</td>\n",
       "      <td>1</td>\n",
       "      <td>NON</td>\n",
       "      <td>30</td>\n",
       "      <td>2</td>\n",
       "      <td>67.68</td>\n",
       "    </tr>\n",
       "    <tr>\n",
       "      <th>1</th>\n",
       "      <td>83126</td>\n",
       "      <td>2</td>\n",
       "      <td>NON</td>\n",
       "      <td>500</td>\n",
       "      <td>Indivividu</td>\n",
       "      <td>cadre; ingenieur</td>\n",
       "      <td>Sans information</td>\n",
       "      <td>2</td>\n",
       "      <td>37</td>\n",
       "      <td>A</td>\n",
       "      <td>...</td>\n",
       "      <td>0</td>\n",
       "      <td>0</td>\n",
       "      <td>100</td>\n",
       "      <td>0</td>\n",
       "      <td>0</td>\n",
       "      <td>5</td>\n",
       "      <td>NON</td>\n",
       "      <td>12</td>\n",
       "      <td>1</td>\n",
       "      <td>120.60</td>\n",
       "    </tr>\n",
       "    <tr>\n",
       "      <th>2</th>\n",
       "      <td>68224</td>\n",
       "      <td>3</td>\n",
       "      <td>NON</td>\n",
       "      <td>500</td>\n",
       "      <td>Indivividu</td>\n",
       "      <td>enseignant; formateur; chercheur</td>\n",
       "      <td>Maison</td>\n",
       "      <td>1</td>\n",
       "      <td>1</td>\n",
       "      <td>E</td>\n",
       "      <td>...</td>\n",
       "      <td>1</td>\n",
       "      <td>98</td>\n",
       "      <td>100</td>\n",
       "      <td>0</td>\n",
       "      <td>0</td>\n",
       "      <td>5</td>\n",
       "      <td>NON</td>\n",
       "      <td>30</td>\n",
       "      <td>2</td>\n",
       "      <td>100.62</td>\n",
       "    </tr>\n",
       "    <tr>\n",
       "      <th>3</th>\n",
       "      <td>30263</td>\n",
       "      <td>3</td>\n",
       "      <td>NON</td>\n",
       "      <td>500</td>\n",
       "      <td>Famille</td>\n",
       "      <td>agent; employe</td>\n",
       "      <td>Maison</td>\n",
       "      <td>2</td>\n",
       "      <td>34</td>\n",
       "      <td>A</td>\n",
       "      <td>...</td>\n",
       "      <td>0</td>\n",
       "      <td>151</td>\n",
       "      <td>38</td>\n",
       "      <td>0</td>\n",
       "      <td>0</td>\n",
       "      <td>1</td>\n",
       "      <td>NON</td>\n",
       "      <td>15</td>\n",
       "      <td>1</td>\n",
       "      <td>58.73</td>\n",
       "    </tr>\n",
       "    <tr>\n",
       "      <th>4</th>\n",
       "      <td>72231</td>\n",
       "      <td>2</td>\n",
       "      <td>NON</td>\n",
       "      <td>500</td>\n",
       "      <td>Famille</td>\n",
       "      <td>educateur; animateur; moniteur</td>\n",
       "      <td>Appartement</td>\n",
       "      <td>1</td>\n",
       "      <td>19</td>\n",
       "      <td>D</td>\n",
       "      <td>...</td>\n",
       "      <td>0</td>\n",
       "      <td>39</td>\n",
       "      <td>100</td>\n",
       "      <td>0</td>\n",
       "      <td>0</td>\n",
       "      <td>1</td>\n",
       "      <td>NON</td>\n",
       "      <td>0</td>\n",
       "      <td>2</td>\n",
       "      <td>132.65</td>\n",
       "    </tr>\n",
       "  </tbody>\n",
       "</table>\n",
       "<p>5 rows × 29 columns</p>\n",
       "</div>"
      ],
      "text/plain": [
       "   code_postal  nb_pieces veranda  biens_nomades     sit_fam  \\\n",
       "0        62510          1     NON            500  Indivividu   \n",
       "1        83126          2     NON            500  Indivividu   \n",
       "2        68224          3     NON            500  Indivividu   \n",
       "3        30263          3     NON            500     Famille   \n",
       "4        72231          2     NON            500     Famille   \n",
       "\n",
       "                         profession        nature_lri  societe  \\\n",
       "0                    agent; employe  Sans information        2   \n",
       "1                  cadre; ingenieur  Sans information        2   \n",
       "2  enseignant; formateur; chercheur            Maison        1   \n",
       "3                    agent; employe            Maison        2   \n",
       "4    educateur; animateur; moniteur       Appartement        1   \n",
       "\n",
       "   domaine_activite niv_urbanisation      ...        var3  var4  var5  var6  \\\n",
       "0                34                A      ...           0   194    49     0   \n",
       "1                37                A      ...           0     0   100     0   \n",
       "2                 1                E      ...           1    98   100     0   \n",
       "3                34                A      ...           0   151    38     0   \n",
       "4                19                D      ...           0    39   100     0   \n",
       "\n",
       "   var7  var8  var9  var10  var11  prime_tot_ttc  \n",
       "0     0     1   NON     30      2          67.68  \n",
       "1     0     5   NON     12      1         120.60  \n",
       "2     0     5   NON     30      2         100.62  \n",
       "3     0     1   NON     15      1          58.73  \n",
       "4     0     1   NON      0      2         132.65  \n",
       "\n",
       "[5 rows x 29 columns]"
      ]
     },
     "execution_count": 78,
     "metadata": {},
     "output_type": "execute_result"
    }
   ],
   "source": [
    "train.head()"
   ]
  },
  {
   "cell_type": "code",
   "execution_count": 116,
   "metadata": {},
   "outputs": [],
   "source": [
    "d = {'Famille': 0, 'Indivividu': 1}"
   ]
  },
  {
   "cell_type": "code",
   "execution_count": 113,
   "metadata": {},
   "outputs": [],
   "source": [
    "X['var9'] = X['var9'].map(d)"
   ]
  },
  {
   "cell_type": "code",
   "execution_count": null,
   "metadata": {},
   "outputs": [],
   "source": []
  },
  {
   "cell_type": "code",
   "execution_count": 117,
   "metadata": {},
   "outputs": [],
   "source": [
    "X['sit_fam'] = X['sit_fam'].map(d)"
   ]
  },
  {
   "cell_type": "code",
   "execution_count": 118,
   "metadata": {},
   "outputs": [
    {
     "data": {
      "text/plain": [
       "Appartement                        110302\n",
       "Maison                              68488\n",
       "Sans information                    19262\n",
       "R�sidence de retraite                1145\n",
       "Mobil home                            799\n",
       "Local utilitaire distinct (LUD)         4\n",
       "Name: nature_lri, dtype: int64"
      ]
     },
     "execution_count": 118,
     "metadata": {},
     "output_type": "execute_result"
    }
   ],
   "source": [
    "X['nature_lri'].value_counts()"
   ]
  },
  {
   "cell_type": "code",
   "execution_count": 119,
   "metadata": {},
   "outputs": [],
   "source": [
    "d = {'Appartement': 0,\n",
    "'Maison': 1,\n",
    "'Sans information': 2,\n",
    "'R�sidence de retraite': 3,\n",
    "'Mobil home': 4,\n",
    "'Local utilitaire distinct (LUD)': 5}"
   ]
  },
  {
   "cell_type": "code",
   "execution_count": 120,
   "metadata": {},
   "outputs": [],
   "source": [
    "X['nature_lri'] = X['nature_lri'].map(d)"
   ]
  },
  {
   "cell_type": "code",
   "execution_count": null,
   "metadata": {},
   "outputs": [],
   "source": []
  },
  {
   "cell_type": "code",
   "execution_count": 122,
   "metadata": {},
   "outputs": [
    {
     "data": {
      "text/plain": [
       "NON    194793\n",
       "OUI      5207\n",
       "Name: veranda, dtype: int64"
      ]
     },
     "execution_count": 122,
     "metadata": {},
     "output_type": "execute_result"
    }
   ],
   "source": [
    "X['veranda'].value_counts()"
   ]
  },
  {
   "cell_type": "code",
   "execution_count": 123,
   "metadata": {},
   "outputs": [],
   "source": [
    "d = {'NON': 0, 'OUI': 1}"
   ]
  },
  {
   "cell_type": "code",
   "execution_count": 125,
   "metadata": {},
   "outputs": [],
   "source": [
    "X['veranda'] = X['veranda'].map(d)"
   ]
  },
  {
   "cell_type": "code",
   "execution_count": 127,
   "metadata": {},
   "outputs": [
    {
     "data": {
      "text/plain": [
       "A    42970\n",
       "G    40950\n",
       "B    39486\n",
       "F    28154\n",
       "D    19445\n",
       "C    17506\n",
       "~     6075\n",
       "E     5414\n",
       "Name: niv_urbanisation, dtype: int64"
      ]
     },
     "execution_count": 127,
     "metadata": {},
     "output_type": "execute_result"
    }
   ],
   "source": [
    "X['niv_urbanisation'].value_counts()"
   ]
  },
  {
   "cell_type": "code",
   "execution_count": 131,
   "metadata": {},
   "outputs": [],
   "source": [
    "d = {'A': 0, 'G': 1, 'B': 2, 'F': 3, 'D': 4, 'C': 5, '~': 6, 'E': 7}"
   ]
  },
  {
   "cell_type": "code",
   "execution_count": 132,
   "metadata": {},
   "outputs": [],
   "source": [
    "X['niv_urbanisation'] = X['niv_urbanisation'].map(d)"
   ]
  },
  {
   "cell_type": "code",
   "execution_count": null,
   "metadata": {},
   "outputs": [],
   "source": []
  },
  {
   "cell_type": "code",
   "execution_count": 133,
   "metadata": {},
   "outputs": [
    {
     "data": {
      "text/html": [
       "<div>\n",
       "<style scoped>\n",
       "    .dataframe tbody tr th:only-of-type {\n",
       "        vertical-align: middle;\n",
       "    }\n",
       "\n",
       "    .dataframe tbody tr th {\n",
       "        vertical-align: top;\n",
       "    }\n",
       "\n",
       "    .dataframe thead th {\n",
       "        text-align: right;\n",
       "    }\n",
       "</style>\n",
       "<table border=\"1\" class=\"dataframe\">\n",
       "  <thead>\n",
       "    <tr style=\"text-align: right;\">\n",
       "      <th></th>\n",
       "      <th>nb_pieces</th>\n",
       "      <th>veranda</th>\n",
       "      <th>biens_nomades</th>\n",
       "      <th>sit_fam</th>\n",
       "      <th>nature_lri</th>\n",
       "      <th>societe</th>\n",
       "      <th>domaine_activite</th>\n",
       "      <th>niv_urbanisation</th>\n",
       "      <th>age_societaire</th>\n",
       "      <th>objets_precieux</th>\n",
       "      <th>...</th>\n",
       "      <th>var2</th>\n",
       "      <th>var3</th>\n",
       "      <th>var4</th>\n",
       "      <th>var5</th>\n",
       "      <th>var6</th>\n",
       "      <th>var7</th>\n",
       "      <th>var8</th>\n",
       "      <th>var9</th>\n",
       "      <th>var10</th>\n",
       "      <th>var11</th>\n",
       "    </tr>\n",
       "  </thead>\n",
       "  <tbody>\n",
       "    <tr>\n",
       "      <th>0</th>\n",
       "      <td>1</td>\n",
       "      <td>0</td>\n",
       "      <td>500</td>\n",
       "      <td>1</td>\n",
       "      <td>2</td>\n",
       "      <td>2</td>\n",
       "      <td>34</td>\n",
       "      <td>0</td>\n",
       "      <td>35</td>\n",
       "      <td>1</td>\n",
       "      <td>...</td>\n",
       "      <td>0</td>\n",
       "      <td>0</td>\n",
       "      <td>194</td>\n",
       "      <td>49</td>\n",
       "      <td>0</td>\n",
       "      <td>0</td>\n",
       "      <td>1</td>\n",
       "      <td>0</td>\n",
       "      <td>30</td>\n",
       "      <td>2</td>\n",
       "    </tr>\n",
       "    <tr>\n",
       "      <th>1</th>\n",
       "      <td>2</td>\n",
       "      <td>0</td>\n",
       "      <td>500</td>\n",
       "      <td>1</td>\n",
       "      <td>2</td>\n",
       "      <td>2</td>\n",
       "      <td>37</td>\n",
       "      <td>0</td>\n",
       "      <td>27</td>\n",
       "      <td>1</td>\n",
       "      <td>...</td>\n",
       "      <td>0</td>\n",
       "      <td>0</td>\n",
       "      <td>0</td>\n",
       "      <td>100</td>\n",
       "      <td>0</td>\n",
       "      <td>0</td>\n",
       "      <td>5</td>\n",
       "      <td>0</td>\n",
       "      <td>12</td>\n",
       "      <td>1</td>\n",
       "    </tr>\n",
       "    <tr>\n",
       "      <th>2</th>\n",
       "      <td>3</td>\n",
       "      <td>0</td>\n",
       "      <td>500</td>\n",
       "      <td>1</td>\n",
       "      <td>1</td>\n",
       "      <td>1</td>\n",
       "      <td>1</td>\n",
       "      <td>7</td>\n",
       "      <td>24</td>\n",
       "      <td>1</td>\n",
       "      <td>...</td>\n",
       "      <td>0</td>\n",
       "      <td>1</td>\n",
       "      <td>98</td>\n",
       "      <td>100</td>\n",
       "      <td>0</td>\n",
       "      <td>0</td>\n",
       "      <td>5</td>\n",
       "      <td>0</td>\n",
       "      <td>30</td>\n",
       "      <td>2</td>\n",
       "    </tr>\n",
       "    <tr>\n",
       "      <th>3</th>\n",
       "      <td>3</td>\n",
       "      <td>0</td>\n",
       "      <td>500</td>\n",
       "      <td>0</td>\n",
       "      <td>1</td>\n",
       "      <td>2</td>\n",
       "      <td>34</td>\n",
       "      <td>0</td>\n",
       "      <td>39</td>\n",
       "      <td>1</td>\n",
       "      <td>...</td>\n",
       "      <td>2</td>\n",
       "      <td>0</td>\n",
       "      <td>151</td>\n",
       "      <td>38</td>\n",
       "      <td>0</td>\n",
       "      <td>0</td>\n",
       "      <td>1</td>\n",
       "      <td>0</td>\n",
       "      <td>15</td>\n",
       "      <td>1</td>\n",
       "    </tr>\n",
       "    <tr>\n",
       "      <th>4</th>\n",
       "      <td>2</td>\n",
       "      <td>0</td>\n",
       "      <td>500</td>\n",
       "      <td>0</td>\n",
       "      <td>0</td>\n",
       "      <td>1</td>\n",
       "      <td>19</td>\n",
       "      <td>4</td>\n",
       "      <td>80</td>\n",
       "      <td>1</td>\n",
       "      <td>...</td>\n",
       "      <td>0</td>\n",
       "      <td>0</td>\n",
       "      <td>39</td>\n",
       "      <td>100</td>\n",
       "      <td>0</td>\n",
       "      <td>0</td>\n",
       "      <td>1</td>\n",
       "      <td>0</td>\n",
       "      <td>0</td>\n",
       "      <td>2</td>\n",
       "    </tr>\n",
       "  </tbody>\n",
       "</table>\n",
       "<p>5 rows × 26 columns</p>\n",
       "</div>"
      ],
      "text/plain": [
       "   nb_pieces  veranda  biens_nomades  sit_fam  nature_lri  societe  \\\n",
       "0          1        0            500        1           2        2   \n",
       "1          2        0            500        1           2        2   \n",
       "2          3        0            500        1           1        1   \n",
       "3          3        0            500        0           1        2   \n",
       "4          2        0            500        0           0        1   \n",
       "\n",
       "   domaine_activite  niv_urbanisation  age_societaire  objets_precieux  ...    \\\n",
       "0                34                 0              35                1  ...     \n",
       "1                37                 0              27                1  ...     \n",
       "2                 1                 7              24                1  ...     \n",
       "3                34                 0              39                1  ...     \n",
       "4                19                 4              80                1  ...     \n",
       "\n",
       "   var2  var3  var4  var5  var6  var7  var8  var9  var10  var11  \n",
       "0     0     0   194    49     0     0     1     0     30      2  \n",
       "1     0     0     0   100     0     0     5     0     12      1  \n",
       "2     0     1    98   100     0     0     5     0     30      2  \n",
       "3     2     0   151    38     0     0     1     0     15      1  \n",
       "4     0     0    39   100     0     0     1     0      0      2  \n",
       "\n",
       "[5 rows x 26 columns]"
      ]
     },
     "execution_count": 133,
     "metadata": {},
     "output_type": "execute_result"
    }
   ],
   "source": [
    "X.head()"
   ]
  },
  {
   "cell_type": "code",
   "execution_count": null,
   "metadata": {},
   "outputs": [],
   "source": []
  },
  {
   "cell_type": "code",
   "execution_count": null,
   "metadata": {},
   "outputs": [],
   "source": []
  },
  {
   "cell_type": "code",
   "execution_count": null,
   "metadata": {},
   "outputs": [],
   "source": []
  },
  {
   "cell_type": "code",
   "execution_count": 128,
   "metadata": {},
   "outputs": [],
   "source": [
    "X = X.drop('profession', axis = 1)"
   ]
  },
  {
   "cell_type": "code",
   "execution_count": 81,
   "metadata": {},
   "outputs": [],
   "source": [
    "X, y = train.drop(['code_postal', 'prime_tot_ttc'], axis=1), train['prime_tot_ttc']"
   ]
  },
  {
   "cell_type": "code",
   "execution_count": 86,
   "metadata": {},
   "outputs": [
    {
     "data": {
      "text/plain": [
       "array([ 32.06,  34.77,  34.77, ..., 324.42, 325.53, 469.67])"
      ]
     },
     "execution_count": 86,
     "metadata": {},
     "output_type": "execute_result"
    }
   ],
   "source": [
    "np.sort(y)"
   ]
  },
  {
   "cell_type": "code",
   "execution_count": 175,
   "metadata": {},
   "outputs": [],
   "source": [
    "X_train, X_test, y_train, y_test = train_test_split(X, y,\n",
    "                                                    test_size=round(len(y)/3),\n",
    "                                                    random_state=42)"
   ]
  },
  {
   "cell_type": "code",
   "execution_count": 105,
   "metadata": {},
   "outputs": [],
   "source": [
    "tree = RandomForestClassifier(random_state=17)\n",
    "max_depth_val = range(13,16)\n",
    "# max_features_values = range(4, 8)\n",
    "params = {'max_depth': max_depth_val}"
   ]
  },
  {
   "cell_type": "code",
   "execution_count": null,
   "metadata": {},
   "outputs": [],
   "source": []
  },
  {
   "cell_type": "code",
   "execution_count": 158,
   "metadata": {},
   "outputs": [],
   "source": [
    "y = train['prime_tot_ttc']"
   ]
  },
  {
   "cell_type": "code",
   "execution_count": 142,
   "metadata": {},
   "outputs": [],
   "source": [
    "X.dropna(inplace=True)"
   ]
  },
  {
   "cell_type": "code",
   "execution_count": 159,
   "metadata": {},
   "outputs": [],
   "source": [
    "y.dropna(inplace=True)"
   ]
  },
  {
   "cell_type": "code",
   "execution_count": null,
   "metadata": {},
   "outputs": [],
   "source": []
  },
  {
   "cell_type": "code",
   "execution_count": 162,
   "metadata": {},
   "outputs": [],
   "source": [
    "y = y.astype(int)"
   ]
  },
  {
   "cell_type": "code",
   "execution_count": 171,
   "metadata": {},
   "outputs": [
    {
     "data": {
      "text/plain": [
       "0     67\n",
       "1    120\n",
       "2    100\n",
       "3     58\n",
       "4    132\n",
       "Name: prime_tot_ttc, dtype: int64"
      ]
     },
     "execution_count": 171,
     "metadata": {},
     "output_type": "execute_result"
    }
   ],
   "source": [
    "y.head()"
   ]
  },
  {
   "cell_type": "code",
   "execution_count": 176,
   "metadata": {},
   "outputs": [
    {
     "name": "stdout",
     "output_type": "stream",
     "text": [
      "CPU times: user 2 µs, sys: 0 ns, total: 2 µs\n",
      "Wall time: 3.81 µs\n",
      "Fitting 3 folds for each of 3 candidates, totalling 9 fits\n"
     ]
    },
    {
     "name": "stderr",
     "output_type": "stream",
     "text": [
      "[Parallel(n_jobs=1)]: Done   9 out of   9 | elapsed:   39.0s finished\n"
     ]
    },
    {
     "data": {
      "text/plain": [
       "GridSearchCV(cv=None, error_score='raise',\n",
       "       estimator=RandomForestClassifier(bootstrap=True, class_weight=None, criterion='gini',\n",
       "            max_depth=None, max_features='auto', max_leaf_nodes=None,\n",
       "            min_impurity_decrease=0.0, min_impurity_split=None,\n",
       "            min_samples_leaf=1, min_samples_split=2,\n",
       "            min_weight_fraction_leaf=0.0, n_estimators=10, n_jobs=1,\n",
       "            oob_score=False, random_state=17, verbose=0, warm_start=False),\n",
       "       fit_params=None, iid=True, n_jobs=1,\n",
       "       param_grid={'max_depth': range(13, 16)}, pre_dispatch='2*n_jobs',\n",
       "       refit=True, return_train_score='warn', scoring=None, verbose=1)"
      ]
     },
     "execution_count": 176,
     "metadata": {},
     "output_type": "execute_result"
    }
   ],
   "source": [
    "%time\n",
    "gcv = GridSearchCV(tree, params, verbose=1)\n",
    "gcv.fit(X_train,y_train)"
   ]
  },
  {
   "cell_type": "code",
   "execution_count": 177,
   "metadata": {},
   "outputs": [
    {
     "data": {
      "text/plain": [
       "0.09080272700681752"
      ]
     },
     "execution_count": 177,
     "metadata": {},
     "output_type": "execute_result"
    }
   ],
   "source": [
    "gcv.best_score_"
   ]
  },
  {
   "cell_type": "code",
   "execution_count": 179,
   "metadata": {},
   "outputs": [],
   "source": [
    "y_pred = gcv.predict(X_test)"
   ]
  },
  {
   "cell_type": "code",
   "execution_count": 181,
   "metadata": {},
   "outputs": [
    {
     "data": {
      "text/plain": [
       "0.09728951355243223"
      ]
     },
     "execution_count": 181,
     "metadata": {},
     "output_type": "execute_result"
    }
   ],
   "source": [
    "gcv.score(X_test, y_test)"
   ]
  },
  {
   "cell_type": "code",
   "execution_count": 188,
   "metadata": {},
   "outputs": [],
   "source": [
    "def mape(y_true, y_pred): \n",
    "    y_true, y_pred = np.array(y_true), np.array(y_pred)\n",
    "    return np.mean(np.abs((y_true - y_pred) / y_true)) * 100"
   ]
  },
  {
   "cell_type": "code",
   "execution_count": 189,
   "metadata": {},
   "outputs": [
    {
     "data": {
      "text/plain": [
       "19.545628956550047"
      ]
     },
     "execution_count": 189,
     "metadata": {},
     "output_type": "execute_result"
    }
   ],
   "source": [
    "mape(y_test, y_pred)"
   ]
  },
  {
   "cell_type": "code",
   "execution_count": 186,
   "metadata": {},
   "outputs": [],
   "source": []
  },
  {
   "cell_type": "code",
   "execution_count": null,
   "metadata": {},
   "outputs": [],
   "source": []
  },
  {
   "cell_type": "code",
   "execution_count": null,
   "metadata": {},
   "outputs": [],
   "source": []
  },
  {
   "cell_type": "code",
   "execution_count": null,
   "metadata": {},
   "outputs": [],
   "source": []
  }
 ],
 "metadata": {
  "kernelspec": {
   "display_name": "Python 3",
   "language": "python",
   "name": "python3"
  },
  "language_info": {
   "codemirror_mode": {
    "name": "ipython",
    "version": 3
   },
   "file_extension": ".py",
   "mimetype": "text/x-python",
   "name": "python",
   "nbconvert_exporter": "python",
   "pygments_lexer": "ipython3",
   "version": "3.6.4"
  }
 },
 "nbformat": 4,
 "nbformat_minor": 2
}
